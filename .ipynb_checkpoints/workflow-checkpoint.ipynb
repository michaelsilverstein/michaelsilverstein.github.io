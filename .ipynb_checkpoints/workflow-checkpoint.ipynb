{
 "cells": [
  {
   "cell_type": "markdown",
   "metadata": {},
   "source": [
    "# Jupyter Workflow and Tips\n",
    "*All keyboard shortcuts listed below are for Mac. Substitute `Cmd` for `Ctrl` for the Windows equivalent*\n",
    "# Just a normal day doing some data analsis\n",
    "My prefered Python scripting environment for data analysis is [Jupyter](https://jupyter.org/index.html) Lab, which is included with [Anaconda](https://www.anaconda.com/products/individual). To initialize a Jupyter Lab session, simply open your terminal and enter the command `jupyter lab`.\n",
    "\n",
    "![init lab](media/init_lab.png)\n",
    "## Jupyter Lab Features\n",
    "That should launch a new tab in your web browser. **This tab is where all of my coding will take place for the day(!)**. The advantages of Jupyter Lab is that:\n",
    "* It has a file browser (which can be opened/closed with `Cmd + B` and allows drag/drop for adding files(!). (Note: the root of this file browser is from the directory that you launched Jupyter Lab from)\n",
    "* You can have multiple tabs of notebooks, terminals or previews of any file\n",
    "* A very quick CSV previewer (responsive even for large files)\n",
    "* Create new directories and files\n",
    "* There are many more advanced features which you can read about [here](https://jupyterlab.readthedocs.io/en/stable/user/interface.html)\n",
    "\n",
    "## Creating Notebooks and Terminal sessions\n",
    "Creating a new notebook is easy, just click the `+` icon in the upper left to open a `Launcher` tab and then select `Python 3` under `Notebooks`. You can then easily name the new notebook by right clicking the new tab and selecting `Rename Notebook...`.\n",
    "\n",
    "From the `Launcher` you can also create a `Terminal` session under `Other`. I find this extremely useful because it centralizes all of my work. Now you can work on notebooks and do any terminal operations from the same browser tab (terminal commands can over course be used directly in Jupyter cells with `!<normal terminal command>`, however many operations are usually more easily executed with a terminal session).\n",
    "\n",
    "![launcher](media/launcher.png)\n",
    "Now you are all set to get coding!\n",
    "---\n",
    "# Jupyter tips\n",
    "## Notebook format\n",
    "Notebook format, in my opinion, is one the most overlooked facets of scientific computing. An organized **LINEAR** notebook is the main difference between reproducible and irreproducible code. Each cell should be sequentially runnable. If you're finding that you have to run cells out of order, it may be best to split the work in that notebook into two. \n",
    "\n",
    "I always start my notebooks with the following cells:\n",
    "1. A title cell [Markdown]\n",
    "2. An import statements cell (import all packages here) [Code]\n",
    "3. First task description [Markdown]\n",
    "4. First task [Code]\n",
    "5. etc...\n",
    "\n",
    "Some formatting tips:\n",
    "* Take advantage of markdowns heading hierarchies! Use `#` for main tasks and `##` for subtasks and so on.\n",
    "* Start each coding cell with `\"\"\"Triple quoted description\"\"\"`. These will show up in red. Use `#` comments for each subsequent step within a cell\n",
    "* Each cell that produces a [DataFrame](https://pandas.pydata.org/) should end with a display of its contents with `df.head()`.\n",
    "* Each visualization should be executed in it's own cell. Use [Seaborn](https://seaborn.pydata.org/) to generate more complicated graphics.\n",
    "\n",
    "## Here is a sample notebook\n",
    "---"
   ]
  },
  {
   "cell_type": "markdown",
   "metadata": {},
   "source": [
    "# Jupyter Tutorial\n",
    "Here's how I start my notebooks"
   ]
  },
  {
   "cell_type": "code",
   "execution_count": 16,
   "metadata": {},
   "outputs": [],
   "source": [
    "import numpy as np\n",
    "import pandas as pd\n",
    "import matplotlib.pyplot as plt\n",
    "import seaborn as sns\n",
    "from itertools import cycle"
   ]
  },
  {
   "cell_type": "markdown",
   "metadata": {},
   "source": [
    "# Functions"
   ]
  },
  {
   "cell_type": "code",
   "execution_count": 10,
   "metadata": {},
   "outputs": [],
   "source": [
    "def randomThinger(x):\n",
    "    \"\"\"\n",
    "    Doing some cool stuff!\n",
    "    Inputs:\n",
    "    | x <int>: The number of cool things\n",
    "    Outputs:\n",
    "    | res <int>: An interpretation of those cool things\n",
    "    \"\"\"\n",
    "    return x * np.random.rand() "
   ]
  },
  {
   "cell_type": "markdown",
   "metadata": {},
   "source": [
    "# First task\n",
    "Thinking about random things"
   ]
  },
  {
   "cell_type": "code",
   "execution_count": 17,
   "metadata": {},
   "outputs": [
    {
     "data": {
      "text/html": [
       "<div>\n",
       "<style scoped>\n",
       "    .dataframe tbody tr th:only-of-type {\n",
       "        vertical-align: middle;\n",
       "    }\n",
       "\n",
       "    .dataframe tbody tr th {\n",
       "        vertical-align: top;\n",
       "    }\n",
       "\n",
       "    .dataframe thead th {\n",
       "        text-align: right;\n",
       "    }\n",
       "</style>\n",
       "<table border=\"1\" class=\"dataframe\">\n",
       "  <thead>\n",
       "    <tr style=\"text-align: right;\">\n",
       "      <th></th>\n",
       "      <th>x</th>\n",
       "      <th>y</th>\n",
       "      <th>label</th>\n",
       "    </tr>\n",
       "  </thead>\n",
       "  <tbody>\n",
       "    <tr>\n",
       "      <th>0</th>\n",
       "      <td>0.127869</td>\n",
       "      <td>0.015900</td>\n",
       "      <td>a</td>\n",
       "    </tr>\n",
       "    <tr>\n",
       "      <th>1</th>\n",
       "      <td>0.151444</td>\n",
       "      <td>0.091064</td>\n",
       "      <td>b</td>\n",
       "    </tr>\n",
       "    <tr>\n",
       "      <th>2</th>\n",
       "      <td>0.762696</td>\n",
       "      <td>0.284927</td>\n",
       "      <td>c</td>\n",
       "    </tr>\n",
       "    <tr>\n",
       "      <th>3</th>\n",
       "      <td>0.255079</td>\n",
       "      <td>0.101684</td>\n",
       "      <td>a</td>\n",
       "    </tr>\n",
       "    <tr>\n",
       "      <th>4</th>\n",
       "      <td>0.204099</td>\n",
       "      <td>0.078531</td>\n",
       "      <td>b</td>\n",
       "    </tr>\n",
       "  </tbody>\n",
       "</table>\n",
       "</div>"
      ],
      "text/plain": [
       "          x         y label\n",
       "0  0.127869  0.015900     a\n",
       "1  0.151444  0.091064     b\n",
       "2  0.762696  0.284927     c\n",
       "3  0.255079  0.101684     a\n",
       "4  0.204099  0.078531     b"
      ]
     },
     "execution_count": 17,
     "metadata": {},
     "output_type": "execute_result"
    }
   ],
   "source": [
    "\"\"\"20 random things\"\"\"\n",
    "# Generate random things\n",
    "xs = np.random.rand(20)\n",
    "labels = cycle('abc')\n",
    "data = [{'x': x, 'y': randomThinger(x), 'label': next(labels)} for x in xs]\n",
    "\n",
    "# Save\n",
    "df = pd.DataFrame(data)\n",
    "df.head()"
   ]
  },
  {
   "cell_type": "code",
   "execution_count": 20,
   "metadata": {},
   "outputs": [
    {
     "data": {
      "image/png": "[encoded data removed]",
      "text/plain": [
       "<Figure size 432x288 with 1 Axes>"
      ]
     },
     "metadata": {
      "needs_background": "light"
     },
     "output_type": "display_data"
    }
   ],
   "source": [
    "\"\"\"Visualize\"\"\"\n",
    "# Plot data\n",
    "sns.scatterplot(x='x', y='y', hue='label', data=df)\n",
    "# Move legend\n",
    "plt.legend(bbox_to_anchor=(1, 1), title='Categories')\n",
    "plt.show()"
   ]
  },
  {
   "cell_type": "markdown",
   "metadata": {},
   "source": [
    "---\n",
    "# Jupyter keyboard shortcuts\n",
    "THESE WILL CHANGE YOUR LIFE! At least they did for me.\n",
    "* Run a cell with `Cmd + Enter`. Use `Shift + Enter` to run a cell and advance to the next one\n",
    "* Use tab-completion to complete variable names (technically an iPython keyboard shortcut)\n",
    "* Use shift-tab-completion to see what methods are available to a Python object, for example: `df.<Shift+Tab>` will pull up a dropdown menu of available methods (also technically an iPython shortcut)\n",
    "* When a cell is selected press `A` to create a new cell above or `B` to create a new cell below\n",
    "* When a cell is selected press `C` to copy that cell or `X` to cut that cell and then `V` to paste it\n",
    "* Use `Z` to undo the cutting of a cell"
   ]
  }
 ],
 "metadata": {
  "kernelspec": {
   "display_name": "Python 3",
   "language": "python",
   "name": "python3"
  },
  "language_info": {
   "codemirror_mode": {
    "name": "ipython",
    "version": 3
   },
   "file_extension": ".py",
   "mimetype": "text/x-python",
   "name": "python",
   "nbconvert_exporter": "python",
   "pygments_lexer": "ipython3",
   "version": "3.8.3"
  }
 },
 "nbformat": 4,
 "nbformat_minor": 4
}
